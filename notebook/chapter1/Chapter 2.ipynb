{
 "cells": [
  {
   "cell_type": "markdown",
   "metadata": {},
   "source": [
    "# The quantitative rules\n",
    "\n",
    "\n",
    "\\begin{align}\n",
    "P(AB|C)\n",
    "\\end{align}\n",
    "\n",
    "\\begin{align}\n",
    "u &= (AB|C)\\\\\n",
    "v &= (A|C)\\\\\n",
    "w &= (B|AC)\\\\\n",
    "x &= (B|C)\\\\\n",
    "y &= (A|BC)\n",
    "\\end{align}\n",
    "\n",
    "Only $u = F(x, y)$ and $u = F(w, v)$ end up making sense\n",
    "\n",
    "\n",
    "$$\\frac{\\mathrm{d}^2 \\omega}{\\mathrm{d}\\theta^2}$$\n",
    "\n"
   ]
  },
  {
   "cell_type": "code",
   "execution_count": null,
   "metadata": {},
   "outputs": [],
   "source": []
  }
 ],
 "metadata": {
  "kernelspec": {
   "display_name": "Python 3",
   "language": "python",
   "name": "python3"
  },
  "language_info": {
   "codemirror_mode": {
    "name": "ipython",
    "version": 3
   },
   "file_extension": ".py",
   "mimetype": "text/x-python",
   "name": "python",
   "nbconvert_exporter": "python",
   "pygments_lexer": "ipython3",
   "version": "3.7.0"
  }
 },
 "nbformat": 4,
 "nbformat_minor": 2
}
