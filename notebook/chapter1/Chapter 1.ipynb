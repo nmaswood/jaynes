{
 "cells": [
  {
   "cell_type": "markdown",
   "metadata": {},
   "source": [
    "# Preface"
   ]
  },
  {
   "cell_type": "markdown",
   "metadata": {},
   "source": [
    "## History\n",
    "\n",
    "* Intuitive ‘common sense’ into a set of elementary qualitative desiderata and showed that mathematicians had been using them all along to\n",
    "* Uniquely valid principles of logic in general, making no reference to ‘chance’ or ‘random variables’; so their range of application is vastly greater\n",
    "than had been supposed in the conventional probability theory that was developed in the\n",
    "early 20th century.\n",
    "* It might be thought that work done 30 years ago would be obsolete today. Fortunately, the work of Jeffreys, P´olya and Cox was of a fundamental, timeless character whose truth does not change and whose importance grows with time. Their perception about the nature of inference, whichwas merely curious 30 years ago, is very important in a half-dozen different areas of science today; and it will be crucially important in all areas 100 years hence.\n"
   ]
  },
  {
   "cell_type": "markdown",
   "metadata": {},
   "source": [
    "## Foundations\n",
    "* our system of\n",
    "probability as not contradicting Kolmogorov’s; but rather seeking a deeper logical foundation\n",
    "that permits its extension in the directions that are needed for modern applications. In\n",
    "this endeavor, many problems have been solved, and those still unsolved appear where we\n",
    "should naturally expect them: in breaking into new ground.\n",
    "* It appears to us that his way of treating infinite sets has opened up a Pandora’s\n",
    "box of useless and unnecessary paradoxes; nonconglomerability and finite additivity are\n",
    "examples discussed in Chapter 15.\n",
    "* ignoring infinite sets as they make probability questions ambigious i.e. prob of even number dpeends on how you depend integers.\n",
    "* The ‘new’ perception amounts to the recognition that\n",
    "the mathematical rules of probability theory are not merely rules for calculating frequencies\n",
    "of ‘random variables’; they are also the unique consistent rules for conducting inference\n",
    "(i.e. plausible reasoning) of any kind, and we shall apply them in full generality to that end."
   ]
  },
  {
   "cell_type": "markdown",
   "metadata": {},
   "source": [
    "## Mental Activity\n",
    "\n",
    "* Can find relations to everyday reasoning\n",
    "* Person tells the truth and is not believed\n",
    "* Polarizing opinions\n",
    "\n",
    "\n",
    "## Safety\n",
    "\n",
    "* A trial where one measures the safety of substance X by seeing its effect on an unreasonable big dose is not valid. Use of models which correctly represent the prior information that scientists have about the\n",
    "mechanism at work can prevent such folly in the future.\n",
    "\n"
   ]
  },
  {
   "cell_type": "markdown",
   "metadata": {},
   "source": [
    "# Plausible reasoning\n",
    "\n",
    "## 1.1 \n",
    "\n",
    "All discussions of these questions start by giving examples of the contrast between\n",
    "deductive reasoning and plausible reasoning. As is generally credited to the Organon of\n",
    "Aristotle (fourth century bc)1 deductive reasoning (apodeixis) can be analyzed ultimately\n",
    "into the repeated application of two strong syllogisms\n",
    "\n",
    "$  A = true \\rightarrow B = true $\n",
    "\n",
    "$  A = true \\ldots \\rightarrow B = true $\n",
    "\n",
    "\n",
    "$  B = false \\ldots \\rightarrow A = false$\n",
    "\n",
    "In most cases we do not have enough information to make these claims there we rely on \n",
    "\n",
    "__if A is true, then B is true__\n",
    "\n",
    "\n",
    "Also \n",
    "__If A is true, then B is tru__\n",
    "\n",
    "\n",
    "__A is false (1.4) therefore, B becomes less plausible.__"
   ]
  },
  {
   "cell_type": "markdown",
   "metadata": {},
   "source": [
    "# 1.3\n",
    "\n",
    "To emphasize this, instead of asking, ‘How can we build a mathematical model of human\n",
    "common sense?’, let us ask, ‘How could we build a machine which would carry out useful\n",
    "plausible reasoning, following clearly defined principles expressing an idealized common\n",
    "sense?’"
   ]
  },
  {
   "cell_type": "markdown",
   "metadata": {},
   "source": [
    "# 1.4 \n",
    "__Idempotence:__\n",
    "\\begin{equation}\n",
    "AA = A\\\\\n",
    "A + A = A\n",
    "\\end{equation}\n",
    "\n",
    "__Commutativity:__\n",
    "\n",
    "\\begin{equation}\n",
    "AB = BA \\\\\n",
    "A + B = B + A\n",
    "\\end{equation}\n",
    "\n",
    "__Associativity:__\n",
    "\n",
    "\\begin{equation}\n",
    "A(BC) = (AB)C = ABC \\\\\n",
    "A + (B + C) = (A + B) + C = A + B + C\n",
    "\\end{equation}\n",
    "\n",
    "__Distributivity:__\n",
    "\n",
    "\\begin{equation}\n",
    "A(B + C) = AB + AC \\\\\n",
    "A + (BC) = (A + B)(A + C)\n",
    "\\end{equation}\n",
    "\n",
    "__Duality:__\n",
    "\n",
    "\\begin{equation}\n",
    "If C = AB, then C = A + B\\\\\n",
    "If D = A + B, then D = A B\n",
    "\\end{equation}\n",
    "\n",
    "__Implies__\n",
    "\\begin{equation}\n",
    "A ⇒ B \n",
    "\\end{equation}\n",
    "\n",
    "to be read as ‘A implies B’, does not assert that either A or B is true; it means only that A B\n",
    "is false, or, what is the same thing, (A + B) is true.\n",
    "\n",
    "\n",
    "For the record implies is an unfortunate word choice!\n",
    "\n",
    "\n",
    "# 1.7\n",
    "\n",
    "To each proposition about which it reasons, our robot must assign some degree of plausibility,\n",
    "based on the evidence we have given it; and whenever it receives new evidence it\n",
    "must revise these assignments to take that new evidence into account.\n",
    "\n",
    "1. Degrees of plausibility are represented by real numbers.\n",
    "2. Qualitative correspondence with common sense."
   ]
  },
  {
   "cell_type": "code",
   "execution_count": null,
   "metadata": {},
   "outputs": [],
   "source": [
    "\n"
   ]
  }
 ],
 "metadata": {
  "kernelspec": {
   "display_name": "Python 3",
   "language": "python",
   "name": "python3"
  },
  "language_info": {
   "codemirror_mode": {
    "name": "ipython",
    "version": 3
   },
   "file_extension": ".py",
   "mimetype": "text/x-python",
   "name": "python",
   "nbconvert_exporter": "python",
   "pygments_lexer": "ipython3",
   "version": "3.7.0"
  }
 },
 "nbformat": 4,
 "nbformat_minor": 2
}
