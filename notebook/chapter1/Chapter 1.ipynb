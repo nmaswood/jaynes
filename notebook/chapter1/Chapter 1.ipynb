{
 "cells": [
  {
   "cell_type": "markdown",
   "metadata": {},
   "source": [
    "# Preface"
   ]
  },
  {
   "cell_type": "markdown",
   "metadata": {},
   "source": [
    "## History\n",
    "\n",
    "* Intuitive ‘common sense’ into a set of elementary qualitative desiderata and showed that mathematicians had been using them all along to\n",
    "* Uniquely valid principles of logic in general, making no reference to ‘chance’ or ‘random variables’; so their range of application is vastly greater\n",
    "than had been supposed in the conventional probability theory that was developed in the\n",
    "early 20th century.\n",
    "* It might be thought that work done 30 years ago would be obsolete today. Fortunately, the work of Jeffreys, P´olya and Cox was of a fundamental, timeless character whose truth does not change and whose importance grows with time. Their perception about the nature of inference, whichwas merely curious 30 years ago, is very important in a half-dozen different areas of science today; and it will be crucially important in all areas 100 years hence.\n"
   ]
  },
  {
   "cell_type": "markdown",
   "metadata": {},
   "source": [
    "## Foundations\n",
    "* our system of\n",
    "probability as not contradicting Kolmogorov’s; but rather seeking a deeper logical foundation\n",
    "that permits its extension in the directions that are needed for modern applications. In\n",
    "this endeavor, many problems have been solved, and those still unsolved appear where we\n",
    "should naturally expect them: in breaking into new ground.\n",
    "* It appears to us that his way of treating infinite sets has opened up a Pandora’s\n",
    "box of useless and unnecessary paradoxes; nonconglomerability and finite additivity are\n",
    "examples discussed in Chapter 15."
   ]
  },
  {
   "cell_type": "code",
   "execution_count": null,
   "metadata": {},
   "outputs": [],
   "source": []
  }
 ],
 "metadata": {
  "kernelspec": {
   "display_name": "Python 3",
   "language": "python",
   "name": "python3"
  },
  "language_info": {
   "codemirror_mode": {
    "name": "ipython",
    "version": 3
   },
   "file_extension": ".py",
   "mimetype": "text/x-python",
   "name": "python",
   "nbconvert_exporter": "python",
   "pygments_lexer": "ipython3",
   "version": "3.7.0"
  }
 },
 "nbformat": 4,
 "nbformat_minor": 2
}
